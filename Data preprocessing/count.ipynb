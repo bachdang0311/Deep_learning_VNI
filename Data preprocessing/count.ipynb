{
 "cells": [
  {
   "cell_type": "code",
   "execution_count": 43,
   "metadata": {},
   "outputs": [],
   "source": [
    "import pandas as pd\n",
    "# Monthly data\n",
    "CPI = pd.read_excel(r\"C:\\Users\\Admin\\Downloads\\NCKH_\\DATA\\CPI.xlsx\")\n",
    "GPR = pd.read_excel(r\"C:\\Users\\Admin\\Downloads\\NCKH_\\DATA\\GPR.xlsx\")\n",
    "IPI = pd.read_excel(r\"C:\\Users\\Admin\\Downloads\\NCKH_\\DATA\\Industrial Production Index .xlsx\")\n",
    "MS = pd.read_excel(r\"C:\\Users\\Admin\\Downloads\\NCKH_\\DATA\\Money Supply M2.xlsx\")\n",
    "US_EPU = pd.read_excel(r\"C:\\Users\\Admin\\Downloads\\NCKH_\\DATA\\US EPU.xlsx\")\n",
    "GLOBAL_EPU = pd.read_csv(r\"C:\\Users\\Admin\\Downloads\\NCKH_\\DATA\\Global EPU.csv\")\n",
    "\n",
    "# Daily data \n",
    "CRUDE_OIL = pd.read_csv(r\"C:\\Users\\Admin\\Downloads\\NCKH_\\DATA\\Crude Oil_CL.csv\")\n",
    "DOW_JONES = pd.read_csv(r\"C:\\Users\\Admin\\Downloads\\NCKH_\\DATA\\Dow Jones Industrial Average Historical Data.csv\")\n",
    "FSI = pd.read_csv(r\"F:\\FSI_1.csv\")\n",
    "GOLD = pd.read_csv(r\"C:\\Users\\Admin\\Downloads\\NCKH_\\DATA\\Gold_GC.csv\")\n",
    "NASDAQ = pd.read_csv(r\"C:\\Users\\Admin\\Downloads\\NCKH_\\DATA\\NASDAQ Composite Historical Data.csv\")\n",
    "SP500 = pd.read_csv(r\"C:\\Users\\Admin\\Downloads\\NCKH_\\DATA\\S&P 500.csv\")\n",
    "OVERNIGHT_INTEREST_RATE = pd.read_csv(r\"C:\\Users\\Admin\\Downloads\\NCKH_\\DATA\\OIIR.csv\")\n",
    "US10 = pd.read_csv(r\"C:\\Users\\Admin\\Downloads\\NCKH_\\DATA\\United States 10-Year Bond Yield.csv\")\n",
    "US2 = pd.read_csv(r\"C:\\Users\\Admin\\Downloads\\NCKH_\\DATA\\United States 2-Year Bond Yield.csv\")\n",
    "USD_VND = pd.read_csv(r\"C:\\Users\\Admin\\Downloads\\NCKH_\\DATA\\USD_VND.csv\")\n",
    "VN10 = pd.read_csv(r\"C:\\Users\\Admin\\Downloads\\NCKH_\\DATA\\Vietnam 10-Year Bond Yield.csv\")\n",
    "VN2 = pd.read_csv(r\"C:\\Users\\Admin\\Downloads\\NCKH_\\DATA\\Vietnam 2-Year Bond Yield.csv\")\n",
    "VIX = pd.read_csv(r\"F:\\VIX_2.csv\")\n",
    "VNI = pd.read_csv(r\"C:\\Users\\Admin\\Downloads\\NCKH_\\DATA\\VN Index.csv\")"
   ]
  },
  {
   "cell_type": "code",
   "execution_count": null,
   "metadata": {},
   "outputs": [],
   "source": []
  },
  {
   "cell_type": "code",
   "execution_count": 44,
   "metadata": {},
   "outputs": [],
   "source": [
    "CRUDE_OIL['Date'] = pd.to_datetime(CRUDE_OIL['Date']).dt.strftime('%d/%m/%Y')\n",
    "DOW_JONES['Date'] = pd.to_datetime(DOW_JONES['Date']).dt.strftime('%d/%m/%Y')\n",
    "FSI['Date'] = pd.to_datetime(FSI['Date']).dt.strftime('%d/%m/%Y')\n",
    "GOLD['Date'] = pd.to_datetime(GOLD['Date']).dt.strftime('%d/%m/%Y')\n",
    "NASDAQ['Date']= pd.to_datetime(NASDAQ['Date']).dt.strftime('%d/%m/%Y')\n",
    "SP500['Date']= pd.to_datetime(SP500['Date']).dt.strftime('%d/%m/%Y')\n",
    "US2['Date']= pd.to_datetime(US2['Date']).dt.strftime('%d/%m/%Y')\n",
    "US10['Date']= pd.to_datetime(US10['Date']).dt.strftime('%d/%m/%Y')\n",
    "USD_VND['Date']= pd.to_datetime(USD_VND['Date']).dt.strftime('%d/%m/%Y')\n",
    "VN10['Date']= pd.to_datetime(VN10['Date']).dt.strftime('%d/%m/%Y')\n",
    "VN2['Date']= pd.to_datetime(VN2['Date']).dt.strftime('%d/%m/%Y')\n",
    "VNI['Date'] = pd.to_datetime(VNI['Date'], format='%d/%m/%Y')\n",
    "VNI['Date'] = VNI['Date'].dt.strftime('%d/%m/%Y')\n",
    "\n"
   ]
  },
  {
   "cell_type": "code",
   "execution_count": 45,
   "metadata": {},
   "outputs": [
    {
     "name": "stderr",
     "output_type": "stream",
     "text": [
      "C:\\Users\\Admin\\AppData\\Local\\Temp\\ipykernel_22184\\1113418942.py:9: UserWarning: Parsing dates in %d/%m/%Y format when dayfirst=False (the default) was specified. Pass `dayfirst=True` or specify a format to silence this warning.\n",
      "  df[date_column] = pd.to_datetime(df[date_column], errors='coerce')\n",
      "C:\\Users\\Admin\\AppData\\Local\\Temp\\ipykernel_22184\\1113418942.py:9: UserWarning: Parsing dates in %d/%m/%Y format when dayfirst=False (the default) was specified. Pass `dayfirst=True` or specify a format to silence this warning.\n",
      "  df[date_column] = pd.to_datetime(df[date_column], errors='coerce')\n",
      "C:\\Users\\Admin\\AppData\\Local\\Temp\\ipykernel_22184\\1113418942.py:9: UserWarning: Parsing dates in %d/%m/%Y format when dayfirst=False (the default) was specified. Pass `dayfirst=True` or specify a format to silence this warning.\n",
      "  df[date_column] = pd.to_datetime(df[date_column], errors='coerce')\n",
      "C:\\Users\\Admin\\AppData\\Local\\Temp\\ipykernel_22184\\1113418942.py:9: UserWarning: Parsing dates in %d/%m/%Y format when dayfirst=False (the default) was specified. Pass `dayfirst=True` or specify a format to silence this warning.\n",
      "  df[date_column] = pd.to_datetime(df[date_column], errors='coerce')\n",
      "C:\\Users\\Admin\\AppData\\Local\\Temp\\ipykernel_22184\\1113418942.py:9: UserWarning: Parsing dates in %d/%m/%Y format when dayfirst=False (the default) was specified. Pass `dayfirst=True` or specify a format to silence this warning.\n",
      "  df[date_column] = pd.to_datetime(df[date_column], errors='coerce')\n",
      "C:\\Users\\Admin\\AppData\\Local\\Temp\\ipykernel_22184\\1113418942.py:9: UserWarning: Parsing dates in %d/%m/%Y format when dayfirst=False (the default) was specified. Pass `dayfirst=True` or specify a format to silence this warning.\n",
      "  df[date_column] = pd.to_datetime(df[date_column], errors='coerce')\n",
      "C:\\Users\\Admin\\AppData\\Local\\Temp\\ipykernel_22184\\1113418942.py:9: UserWarning: Parsing dates in %d/%m/%Y format when dayfirst=False (the default) was specified. Pass `dayfirst=True` or specify a format to silence this warning.\n",
      "  df[date_column] = pd.to_datetime(df[date_column], errors='coerce')\n",
      "C:\\Users\\Admin\\AppData\\Local\\Temp\\ipykernel_22184\\1113418942.py:9: UserWarning: Parsing dates in %d/%m/%Y format when dayfirst=False (the default) was specified. Pass `dayfirst=True` or specify a format to silence this warning.\n",
      "  df[date_column] = pd.to_datetime(df[date_column], errors='coerce')\n",
      "C:\\Users\\Admin\\AppData\\Local\\Temp\\ipykernel_22184\\1113418942.py:9: UserWarning: Parsing dates in %d/%m/%Y format when dayfirst=False (the default) was specified. Pass `dayfirst=True` or specify a format to silence this warning.\n",
      "  df[date_column] = pd.to_datetime(df[date_column], errors='coerce')\n",
      "C:\\Users\\Admin\\AppData\\Local\\Temp\\ipykernel_22184\\1113418942.py:9: UserWarning: Parsing dates in %d/%m/%Y format when dayfirst=False (the default) was specified. Pass `dayfirst=True` or specify a format to silence this warning.\n",
      "  df[date_column] = pd.to_datetime(df[date_column], errors='coerce')\n",
      "C:\\Users\\Admin\\AppData\\Local\\Temp\\ipykernel_22184\\1113418942.py:9: UserWarning: Parsing dates in %d/%m/%Y format when dayfirst=False (the default) was specified. Pass `dayfirst=True` or specify a format to silence this warning.\n",
      "  df[date_column] = pd.to_datetime(df[date_column], errors='coerce')\n"
     ]
    }
   ],
   "source": [
    "import pandas as pd\n",
    "\n",
    "# Định nghĩa khoảng thời gian cần lọc\n",
    "start_date = '2011-07-01'\n",
    "end_date = '2024-07-01'\n",
    "\n",
    "# Hàm lọc dữ liệu theo khoảng thời gian\n",
    "def filter_by_date(df, date_column):\n",
    "    df[date_column] = pd.to_datetime(df[date_column], errors='coerce')\n",
    "    return df[(df[date_column] >= start_date) & (df[date_column] <= end_date)]\n",
    "\n",
    "\n",
    "# Daily data\n",
    "CRUDE_OIL = filter_by_date(CRUDE_OIL, 'Date')\n",
    "DOW_JONES = filter_by_date(DOW_JONES, 'Date')\n",
    "GOLD = filter_by_date(GOLD, 'Date')\n",
    "NASDAQ = filter_by_date(NASDAQ, 'Date')\n",
    "SP500 = filter_by_date(SP500, 'Date')\n",
    "US10 = filter_by_date(US10, 'Date')\n",
    "US2 = filter_by_date(US2, 'Date')\n",
    "USD_VND = filter_by_date(USD_VND, 'Date')\n",
    "VN10 = filter_by_date(VN10, 'Date')\n",
    "VN2 = filter_by_date(VN2, 'Date')\n",
    "VNI = filter_by_date(VNI, 'Date')\n"
   ]
  },
  {
   "cell_type": "code",
   "execution_count": null,
   "metadata": {},
   "outputs": [
    {
     "name": "stdout",
     "output_type": "stream",
     "text": [
      "(3400, 7)\n",
      "(3386, 7)\n",
      "(3291, 3)\n",
      "(3319, 7)\n",
      "(3270, 7)\n",
      "(3270, 7)\n",
      "(3251, 2)\n",
      "(3399, 6)\n",
      "(3453, 6)\n",
      "(3392, 7)\n",
      "(3450, 6)\n",
      "(3449, 6)\n",
      "(3286, 2)\n",
      "(3246, 7)\n"
     ]
    }
   ],
   "source": [
    "#dữ liệu daily\n",
    "print(CRUDE_OIL.shape)\n",
    "print(DOW_JONES.shape)\n",
    "print(FSI.shape)\n",
    "print(GOLD.shape)\n",
    "print(NASDAQ.shape)\n",
    "print(SP500.shape)\n",
    "print(OVERNIGHT_INTEREST_RATE.shape)\n",
    "print(US10.shape) \n",
    "print(US2.shape)\n",
    "print(USD_VND.shape)\n",
    "print(VN10.shape)\n",
    "print(VN2.shape)\n",
    "print(VIX.shape)\n",
    "print(VNI.shape)\n",
    "\n"
   ]
  },
  {
   "cell_type": "code",
   "execution_count": 47,
   "metadata": {},
   "outputs": [
    {
     "name": "stdout",
     "output_type": "stream",
     "text": [
      "(168, 2)\n",
      "(168, 2)\n",
      "(162, 2)\n",
      "(164, 2)\n",
      "(168, 3)\n",
      "(168, 3)\n"
     ]
    }
   ],
   "source": [
    "#dữ liệu monthly:\n",
    "print(CPI.shape)\n",
    "print(GPR.shape)\n",
    "print(IPI.shape)\n",
    "print(MS.shape)\n",
    "print(US_EPU.shape)\n",
    "print(GLOBAL_EPU.shape)"
   ]
  },
  {
   "cell_type": "code",
   "execution_count": 50,
   "metadata": {},
   "outputs": [
    {
     "data": {
      "text/html": [
       "<div>\n",
       "<style scoped>\n",
       "    .dataframe tbody tr th:only-of-type {\n",
       "        vertical-align: middle;\n",
       "    }\n",
       "\n",
       "    .dataframe tbody tr th {\n",
       "        vertical-align: top;\n",
       "    }\n",
       "\n",
       "    .dataframe thead th {\n",
       "        text-align: right;\n",
       "    }\n",
       "</style>\n",
       "<table border=\"1\" class=\"dataframe\">\n",
       "  <thead>\n",
       "    <tr style=\"text-align: right;\">\n",
       "      <th></th>\n",
       "      <th>Date</th>\n",
       "      <th>Close price</th>\n",
       "      <th>Open price</th>\n",
       "      <th>High price</th>\n",
       "      <th>Low price</th>\n",
       "      <th>Volume</th>\n",
       "      <th>Unnamed: 6</th>\n",
       "    </tr>\n",
       "  </thead>\n",
       "  <tbody>\n",
       "    <tr>\n",
       "      <th>129</th>\n",
       "      <td>2024-07-01</td>\n",
       "      <td>1,254.56</td>\n",
       "      <td>1,245.32</td>\n",
       "      <td>1,254.56</td>\n",
       "      <td>1,240.07</td>\n",
       "      <td>487.19</td>\n",
       "      <td>NaN</td>\n",
       "    </tr>\n",
       "    <tr>\n",
       "      <th>130</th>\n",
       "      <td>2024-06-28</td>\n",
       "      <td>1,245.32</td>\n",
       "      <td>1,259.09</td>\n",
       "      <td>1,262.61</td>\n",
       "      <td>1,240.15</td>\n",
       "      <td>840.43</td>\n",
       "      <td>NaN</td>\n",
       "    </tr>\n",
       "    <tr>\n",
       "      <th>131</th>\n",
       "      <td>2024-06-27</td>\n",
       "      <td>1,259.09</td>\n",
       "      <td>1,261.24</td>\n",
       "      <td>1,262.49</td>\n",
       "      <td>1,255.12</td>\n",
       "      <td>596.99</td>\n",
       "      <td>NaN</td>\n",
       "    </tr>\n",
       "    <tr>\n",
       "      <th>132</th>\n",
       "      <td>2024-06-26</td>\n",
       "      <td>1,261.24</td>\n",
       "      <td>1,256.56</td>\n",
       "      <td>1,262.67</td>\n",
       "      <td>1,247.55</td>\n",
       "      <td>878.37</td>\n",
       "      <td>NaN</td>\n",
       "    </tr>\n",
       "    <tr>\n",
       "      <th>133</th>\n",
       "      <td>2024-06-25</td>\n",
       "      <td>1,256.56</td>\n",
       "      <td>1,254.12</td>\n",
       "      <td>1,260.07</td>\n",
       "      <td>1,250.25</td>\n",
       "      <td>835.30</td>\n",
       "      <td>NaN</td>\n",
       "    </tr>\n",
       "  </tbody>\n",
       "</table>\n",
       "</div>"
      ],
      "text/plain": [
       "          Date Close price Open price High price Low price  Volume  Unnamed: 6\n",
       "129 2024-07-01    1,254.56   1,245.32   1,254.56  1,240.07  487.19         NaN\n",
       "130 2024-06-28    1,245.32   1,259.09   1,262.61  1,240.15  840.43         NaN\n",
       "131 2024-06-27    1,259.09   1,261.24   1,262.49  1,255.12  596.99         NaN\n",
       "132 2024-06-26    1,261.24   1,256.56   1,262.67  1,247.55  878.37         NaN\n",
       "133 2024-06-25    1,256.56   1,254.12   1,260.07  1,250.25  835.30         NaN"
      ]
     },
     "execution_count": 50,
     "metadata": {},
     "output_type": "execute_result"
    }
   ],
   "source": [
    "VNI.head()"
   ]
  },
  {
   "cell_type": "code",
   "execution_count": 53,
   "metadata": {},
   "outputs": [
    {
     "name": "stderr",
     "output_type": "stream",
     "text": [
      "C:\\Users\\Admin\\AppData\\Local\\Temp\\ipykernel_22184\\1545764368.py:9: UserWarning: Parsing dates in %d/%m/%Y format when dayfirst=False (the default) was specified. Pass `dayfirst=True` or specify a format to silence this warning.\n",
      "  df[date_column] = pd.to_datetime(df[date_column], errors='coerce')\n"
     ]
    }
   ],
   "source": [
    "VNI = pd.read_csv(r\"C:\\Users\\Admin\\Downloads\\NCKH_\\DATA\\VN Index.csv\")\n",
    "VNI['Date'] = pd.to_datetime(VNI['Date'], format='%d/%m/%Y')\n",
    "VNI['Date'] = VNI['Date'].dt.strftime('%d/%m/%Y')\n",
    "start_date = '2024-07-02'\n",
    "end_date = '2024-08-01'\n",
    "\n",
    "# Hàm lọc dữ liệu theo khoảng thời gian\n",
    "def filter_by_date(df, date_column):\n",
    "    df[date_column] = pd.to_datetime(df[date_column], errors='coerce')\n",
    "    return df[(df[date_column] >= start_date) & (df[date_column] <= end_date)]\n",
    "\n",
    "VNI = filter_by_date(VNI, 'Date')"
   ]
  },
  {
   "cell_type": "code",
   "execution_count": 55,
   "metadata": {},
   "outputs": [],
   "source": [
    "VNI.drop(columns=['Unnamed: 6'],inplace=True)"
   ]
  },
  {
   "cell_type": "code",
   "execution_count": 58,
   "metadata": {},
   "outputs": [],
   "source": [
    "VNI.to_csv(r\"C:\\Users\\Admin\\Downloads\\VNI_OFS.csv\")"
   ]
  },
  {
   "cell_type": "code",
   "execution_count": null,
   "metadata": {},
   "outputs": [],
   "source": []
  }
 ],
 "metadata": {
  "kernelspec": {
   "display_name": "Python 3",
   "language": "python",
   "name": "python3"
  },
  "language_info": {
   "codemirror_mode": {
    "name": "ipython",
    "version": 3
   },
   "file_extension": ".py",
   "mimetype": "text/x-python",
   "name": "python",
   "nbconvert_exporter": "python",
   "pygments_lexer": "ipython3",
   "version": "3.11.3"
  }
 },
 "nbformat": 4,
 "nbformat_minor": 2
}
